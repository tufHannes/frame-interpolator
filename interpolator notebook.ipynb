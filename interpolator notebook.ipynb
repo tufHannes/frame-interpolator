{
 "cells": [
  {
   "cell_type": "code",
   "execution_count": null,
   "id": "a4f6a067-9873-4a9e-8074-7adac0cf7237",
   "metadata": {},
   "outputs": [],
   "source": [
    "import numpy as np\n",
    "import cv2 as cv\n",
    "import matplotlib.pyplot as plt\n",
    "from torch.utils.data import Dataset, DataLoader\n",
    "from torchvision import transforms, utils"
   ]
  },
  {
   "cell_type": "code",
   "execution_count": null,
   "id": "2a4ab56f-a278-4cbc-a960-436775dde006",
   "metadata": {},
   "outputs": [],
   "source": [
    "path = \"video.mp4\""
   ]
  },
  {
   "cell_type": "code",
   "execution_count": null,
   "id": "92465ccb-206b-4c45-8e84-d2d0bec241fc",
   "metadata": {},
   "outputs": [],
   "source": [
    "class FrameQuintupleDataset(Dataset):\n",
    "    def __init__(self, filename):\n",
    "        self.filename = filename\n",
    "        cap = cv.VideoCapture(path)\n",
    "        length = cap.get(cv.CAP_PROP_FRAME_COUNT)\n",
    "        cap.release()\n",
    "        assert length >= 7\n",
    "\n",
    "    def __len__(self):\n",
    "        cap = cv.VideoCapture(self.filename)\n",
    "        result = cap.get(cv.CAP_PROP_FRAME_COUNT) - 6\n",
    "        cap.release()\n",
    "        return result\n",
    "\n",
    "    def __getitem__(self, idx):\n",
    "        #TODO put all five frames into one 15 channel image for easier transformations\n",
    "        pass"
   ]
  },
  {
   "cell_type": "code",
   "execution_count": null,
   "id": "9d99cfc6-107c-4ac9-8df8-9c1e9e49af79",
   "metadata": {},
   "outputs": [],
   "source": []
  },
  {
   "cell_type": "code",
   "execution_count": null,
   "id": "60df63f5-53fe-45e3-9bf8-22c20565f200",
   "metadata": {},
   "outputs": [],
   "source": []
  }
 ],
 "metadata": {
  "kernelspec": {
   "display_name": "Python 3 (ipykernel)",
   "language": "python",
   "name": "python3"
  },
  "language_info": {
   "codemirror_mode": {
    "name": "ipython",
    "version": 3
   },
   "file_extension": ".py",
   "mimetype": "text/x-python",
   "name": "python",
   "nbconvert_exporter": "python",
   "pygments_lexer": "ipython3",
   "version": "3.10.13"
  }
 },
 "nbformat": 4,
 "nbformat_minor": 5
}
